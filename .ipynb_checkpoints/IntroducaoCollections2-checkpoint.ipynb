{
 "cells": [
  {
   "cell_type": "code",
   "execution_count": 2,
   "metadata": {},
   "outputs": [],
   "source": [
    "usuarios_data_science = [15, 23, 43, 56]\n",
    "usuarios_machine_learning = [13, 23, 56, 42]"
   ]
  },
  {
   "cell_type": "code",
   "execution_count": 5,
   "metadata": {},
   "outputs": [
    {
     "data": {
      "text/plain": [
       "[15, 23, 43, 56, 13, 23, 56, 42]"
      ]
     },
     "execution_count": 5,
     "metadata": {},
     "output_type": "execute_result"
    }
   ],
   "source": [
    "assistiram = usuarios_data_science.copy()\n",
    "assistiram.extend(usuarios_machine_learning)\n",
    "assistiram"
   ]
  },
  {
   "cell_type": "code",
   "execution_count": 6,
   "metadata": {},
   "outputs": [
    {
     "data": {
      "text/plain": [
       "{13, 15, 23, 42, 43, 56}"
      ]
     },
     "execution_count": 6,
     "metadata": {},
     "output_type": "execute_result"
    }
   ],
   "source": [
    "set(assistiram)"
   ]
  },
  {
   "cell_type": "code",
   "execution_count": 8,
   "metadata": {},
   "outputs": [],
   "source": [
    "usuarios_data_science = {15, 23, 43, 56}\n",
    "usuarios_machine_learning = {13, 23, 56, 42}"
   ]
  },
  {
   "cell_type": "code",
   "execution_count": 9,
   "metadata": {},
   "outputs": [
    {
     "name": "stdout",
     "output_type": "stream",
     "text": [
      "42\n",
      "43\n",
      "13\n",
      "15\n",
      "23\n",
      "56\n"
     ]
    }
   ],
   "source": [
    "for usuario in set(assistiram):\n",
    "    print(usuario)"
   ]
  },
  {
   "cell_type": "markdown",
   "metadata": {},
   "source": [
    "mandar email para usuarios da dataScience OU -> | da machineLearning"
   ]
  },
  {
   "cell_type": "code",
   "execution_count": null,
   "metadata": {},
   "outputs": [],
   "source": [
    "usuarios_data_science | usuarios_machine_learning"
   ]
  },
  {
   "cell_type": "markdown",
   "metadata": {},
   "source": [
    "mandar email para usuarios da DataScience E -> & machineLearning"
   ]
  },
  {
   "cell_type": "code",
   "execution_count": 11,
   "metadata": {},
   "outputs": [
    {
     "data": {
      "text/plain": [
       "{23, 56}"
      ]
     },
     "execution_count": 11,
     "metadata": {},
     "output_type": "execute_result"
    }
   ],
   "source": [
    "usuarios_data_science & usuarios_machine_learning\n"
   ]
  },
  {
   "cell_type": "markdown",
   "metadata": {},
   "source": [
    "mandar email usuarios da DataScience que NÃO ESTÃO -> - na MachineLearning"
   ]
  },
  {
   "cell_type": "code",
   "execution_count": 13,
   "metadata": {},
   "outputs": [
    {
     "data": {
      "text/plain": [
       "{15, 43}"
      ]
     },
     "execution_count": 13,
     "metadata": {},
     "output_type": "execute_result"
    }
   ],
   "source": [
    "usuarios_data_science - usuarios_machine_learning"
   ]
  },
  {
   "cell_type": "code",
   "execution_count": 14,
   "metadata": {},
   "outputs": [],
   "source": [
    "fez_ds_mas_nao_fez_ml = usuarios_data_science - usuarios_machine_learning"
   ]
  },
  {
   "cell_type": "markdown",
   "metadata": {},
   "source": [
    "Usuarios que só fizeram UM dos cursos ^^"
   ]
  },
  {
   "cell_type": "code",
   "execution_count": 15,
   "metadata": {},
   "outputs": [
    {
     "data": {
      "text/plain": [
       "{13, 15, 42, 43}"
      ]
     },
     "execution_count": 15,
     "metadata": {},
     "output_type": "execute_result"
    }
   ],
   "source": [
    "usuarios_data_science ^ usuarios_machine_learning"
   ]
  },
  {
   "cell_type": "code",
   "execution_count": 1,
   "metadata": {},
   "outputs": [],
   "source": [
    "usuarios = {1, 5, 76, 34, 52, 13, 17}"
   ]
  },
  {
   "cell_type": "code",
   "execution_count": 2,
   "metadata": {},
   "outputs": [
    {
     "data": {
      "text/plain": [
       "7"
      ]
     },
     "execution_count": 2,
     "metadata": {},
     "output_type": "execute_result"
    }
   ],
   "source": [
    "len(usuarios)"
   ]
  },
  {
   "cell_type": "code",
   "execution_count": 5,
   "metadata": {},
   "outputs": [],
   "source": [
    "usuarios.add(13) ## Só vai adicionar caso não exista o valor dentro"
   ]
  },
  {
   "cell_type": "code",
   "execution_count": 7,
   "metadata": {},
   "outputs": [
    {
     "data": {
      "text/plain": [
       "7"
      ]
     },
     "execution_count": 7,
     "metadata": {},
     "output_type": "execute_result"
    }
   ],
   "source": [
    "len(usuarios)"
   ]
  },
  {
   "cell_type": "code",
   "execution_count": 9,
   "metadata": {},
   "outputs": [],
   "source": [
    "usuarios = frozenset(usuarios)"
   ]
  },
  {
   "cell_type": "code",
   "execution_count": 10,
   "metadata": {},
   "outputs": [
    {
     "data": {
      "text/plain": [
       "frozenset({1, 5, 13, 17, 34, 52, 76})"
      ]
     },
     "execution_count": 10,
     "metadata": {},
     "output_type": "execute_result"
    }
   ],
   "source": [
    "usuarios"
   ]
  },
  {
   "cell_type": "code",
   "execution_count": 11,
   "metadata": {},
   "outputs": [],
   "source": [
    "meu_texto = \"Bem vindo meu nome é Guilherme eu gosto muito de nomes e tenho o meu cachorro e gosto muito de cachorro\""
   ]
  },
  {
   "cell_type": "code",
   "execution_count": 12,
   "metadata": {},
   "outputs": [],
   "source": [
    "meu_texto = meu_texto.split()"
   ]
  },
  {
   "cell_type": "code",
   "execution_count": 13,
   "metadata": {},
   "outputs": [
    {
     "data": {
      "text/plain": [
       "['Bem',\n",
       " 'vindo',\n",
       " 'meu',\n",
       " 'nome',\n",
       " 'é',\n",
       " 'Guilherme',\n",
       " 'eu',\n",
       " 'gosto',\n",
       " 'muito',\n",
       " 'de',\n",
       " 'nomes',\n",
       " 'e',\n",
       " 'tenho',\n",
       " 'o',\n",
       " 'meu',\n",
       " 'cachorro',\n",
       " 'e',\n",
       " 'gosto',\n",
       " 'muito',\n",
       " 'de',\n",
       " 'cachorro']"
      ]
     },
     "execution_count": 13,
     "metadata": {},
     "output_type": "execute_result"
    }
   ],
   "source": [
    "meu_texto"
   ]
  },
  {
   "cell_type": "code",
   "execution_count": 14,
   "metadata": {},
   "outputs": [
    {
     "data": {
      "text/plain": [
       "{'Bem',\n",
       " 'Guilherme',\n",
       " 'cachorro',\n",
       " 'de',\n",
       " 'e',\n",
       " 'eu',\n",
       " 'gosto',\n",
       " 'meu',\n",
       " 'muito',\n",
       " 'nome',\n",
       " 'nomes',\n",
       " 'o',\n",
       " 'tenho',\n",
       " 'vindo',\n",
       " 'é'}"
      ]
     },
     "execution_count": 14,
     "metadata": {},
     "output_type": "execute_result"
    }
   ],
   "source": [
    "set(meu_texto)"
   ]
  },
  {
   "cell_type": "code",
   "execution_count": 17,
   "metadata": {},
   "outputs": [],
   "source": [
    "aparicoes = {\n",
    "    \"Guilherme\" : 1,\n",
    "    \"Cachorro\" : 2,\n",
    "    \"Nome\" : 2,\n",
    "    \"Vindo\" : 1\n",
    "}"
   ]
  },
  {
   "cell_type": "code",
   "execution_count": 19,
   "metadata": {},
   "outputs": [
    {
     "data": {
      "text/plain": [
       "2"
      ]
     },
     "execution_count": 19,
     "metadata": {},
     "output_type": "execute_result"
    }
   ],
   "source": [
    "aparicoes[\"Nome\"]"
   ]
  },
  {
   "cell_type": "code",
   "execution_count": 21,
   "metadata": {},
   "outputs": [
    {
     "data": {
      "text/plain": [
       "0"
      ]
     },
     "execution_count": 21,
     "metadata": {},
     "output_type": "execute_result"
    }
   ],
   "source": [
    "aparicoes.get('xpto', 0)\n"
   ]
  },
  {
   "cell_type": "code",
   "execution_count": null,
   "metadata": {},
   "outputs": [],
   "source": []
  },
  {
   "cell_type": "code",
   "execution_count": 22,
   "metadata": {},
   "outputs": [
    {
     "data": {
      "text/plain": [
       "2"
      ]
     },
     "execution_count": 22,
     "metadata": {},
     "output_type": "execute_result"
    }
   ],
   "source": [
    "aparicoes.get('Cachorro', 0)\n"
   ]
  },
  {
   "cell_type": "code",
   "execution_count": 23,
   "metadata": {},
   "outputs": [],
   "source": [
    "aparicoes = dict(Guilherme = 2, cachorro=1)"
   ]
  },
  {
   "cell_type": "code",
   "execution_count": 24,
   "metadata": {},
   "outputs": [
    {
     "data": {
      "text/plain": [
       "{'Guilherme': 2, 'cachorro': 1}"
      ]
     },
     "execution_count": 24,
     "metadata": {},
     "output_type": "execute_result"
    }
   ],
   "source": [
    "aparicoes\n"
   ]
  },
  {
   "cell_type": "code",
   "execution_count": 17,
   "metadata": {},
   "outputs": [],
   "source": [
    "aparicoes = {\n",
    "    \"Guilherme\" : 1,\n",
    "    \"Cachorro\" : 2,\n",
    "    \"Nome\" : 2,\n",
    "    \"Vindo\" : 1\n",
    "}"
   ]
  },
  {
   "cell_type": "code",
   "execution_count": 25,
   "metadata": {},
   "outputs": [],
   "source": [
    "aparicoes[\"carlos\"] = 1\n"
   ]
  },
  {
   "cell_type": "code",
   "execution_count": 26,
   "metadata": {},
   "outputs": [
    {
     "data": {
      "text/plain": [
       "{'Guilherme': 2, 'cachorro': 1, 'carlos': 1}"
      ]
     },
     "execution_count": 26,
     "metadata": {},
     "output_type": "execute_result"
    }
   ],
   "source": [
    "aparicoes"
   ]
  },
  {
   "cell_type": "code",
   "execution_count": 27,
   "metadata": {},
   "outputs": [],
   "source": [
    "aparicoes[\"carlos\"] = 2"
   ]
  },
  {
   "cell_type": "code",
   "execution_count": 28,
   "metadata": {},
   "outputs": [
    {
     "data": {
      "text/plain": [
       "{'Guilherme': 2, 'cachorro': 1, 'carlos': 2}"
      ]
     },
     "execution_count": 28,
     "metadata": {},
     "output_type": "execute_result"
    }
   ],
   "source": [
    "aparicoes"
   ]
  },
  {
   "cell_type": "code",
   "execution_count": 29,
   "metadata": {},
   "outputs": [],
   "source": [
    "del aparicoes['carlos']"
   ]
  },
  {
   "cell_type": "code",
   "execution_count": 30,
   "metadata": {},
   "outputs": [
    {
     "data": {
      "text/plain": [
       "{'Guilherme': 2, 'cachorro': 1}"
      ]
     },
     "execution_count": 30,
     "metadata": {},
     "output_type": "execute_result"
    }
   ],
   "source": [
    "aparicoes"
   ]
  },
  {
   "cell_type": "code",
   "execution_count": 33,
   "metadata": {},
   "outputs": [
    {
     "ename": "AttributeError",
     "evalue": "'str' object has no attribute 'value'",
     "output_type": "error",
     "traceback": [
      "\u001b[1;31m---------------------------------------------------------------------------\u001b[0m",
      "\u001b[1;31mAttributeError\u001b[0m                            Traceback (most recent call last)",
      "\u001b[1;32m<ipython-input-33-42633331c415>\u001b[0m in \u001b[0;36m<module>\u001b[1;34m\u001b[0m\n\u001b[0;32m      1\u001b[0m \u001b[1;32mfor\u001b[0m \u001b[0melemento\u001b[0m \u001b[1;32min\u001b[0m \u001b[0maparicoes\u001b[0m\u001b[1;33m:\u001b[0m\u001b[1;33m\u001b[0m\u001b[1;33m\u001b[0m\u001b[0m\n\u001b[1;32m----> 2\u001b[1;33m     \u001b[0mprint\u001b[0m\u001b[1;33m(\u001b[0m\u001b[0melemento\u001b[0m\u001b[1;33m.\u001b[0m\u001b[0mvalue\u001b[0m\u001b[1;33m)\u001b[0m\u001b[1;33m\u001b[0m\u001b[1;33m\u001b[0m\u001b[0m\n\u001b[0m",
      "\u001b[1;31mAttributeError\u001b[0m: 'str' object has no attribute 'value'"
     ]
    }
   ],
   "source": [
    "for elemento in aparicoes:\n",
    "    print(elemento.value)"
   ]
  },
  {
   "cell_type": "code",
   "execution_count": 36,
   "metadata": {},
   "outputs": [
    {
     "name": "stdout",
     "output_type": "stream",
     "text": [
      "Guilherme cachorro\n",
      "2 1\n"
     ]
    }
   ],
   "source": [
    "for elemento, value in aparicoes, aparicoes.values():\n",
    "    print(elemento, value)"
   ]
  },
  {
   "cell_type": "code",
   "execution_count": null,
   "metadata": {},
   "outputs": [],
   "source": []
  },
  {
   "cell_type": "code",
   "execution_count": 38,
   "metadata": {},
   "outputs": [
    {
     "name": "stdout",
     "output_type": "stream",
     "text": [
      "Guilherme e 2\n",
      "cachorro e 1\n"
     ]
    }
   ],
   "source": [
    "for chave, valor in aparicoes.items():\n",
    "    print(f'{chave} e {valor}')"
   ]
  },
  {
   "cell_type": "code",
   "execution_count": 40,
   "metadata": {},
   "outputs": [
    {
     "data": {
      "text/plain": [
       "['palavra Guilherme', 'palavra cachorro']"
      ]
     },
     "execution_count": 40,
     "metadata": {},
     "output_type": "execute_result"
    }
   ],
   "source": [
    "[f\"palavra {chave}\" for chave in aparicoes.keys()]"
   ]
  },
  {
   "cell_type": "code",
   "execution_count": 41,
   "metadata": {},
   "outputs": [
    {
     "data": {
      "text/plain": [
       "'bem vindo meu nome é guilherme eu gosto muito de nomes e tenho o meu cachorro e gosto muito de cachorro'"
      ]
     },
     "execution_count": 41,
     "metadata": {},
     "output_type": "execute_result"
    }
   ],
   "source": [
    "meu_texto = \"Bem vindo meu nome é Guilherme eu gosto muito de nomes e tenho o meu cachorro e gosto muito de cachorro\"\n",
    "meu_texto.lower()"
   ]
  },
  {
   "cell_type": "code",
   "execution_count": 42,
   "metadata": {},
   "outputs": [
    {
     "data": {
      "text/plain": [
       "'BEM VINDO MEU NOME É GUILHERME EU GOSTO MUITO DE NOMES E TENHO O MEU CACHORRO E GOSTO MUITO DE CACHORRO'"
      ]
     },
     "execution_count": 42,
     "metadata": {},
     "output_type": "execute_result"
    }
   ],
   "source": [
    "meu_texto.upper()"
   ]
  },
  {
   "cell_type": "code",
   "execution_count": 46,
   "metadata": {},
   "outputs": [
    {
     "data": {
      "text/plain": [
       "{'bem': 1,\n",
       " 'vindo': 1,\n",
       " 'meu': 2,\n",
       " 'nome': 1,\n",
       " 'é': 1,\n",
       " 'guilherme': 1,\n",
       " 'eu': 1,\n",
       " 'gosto': 2,\n",
       " 'muito': 2,\n",
       " 'de': 2,\n",
       " 'nomes': 1,\n",
       " 'e': 2,\n",
       " 'tenho': 1,\n",
       " 'o': 1,\n",
       " 'cachorro': 2}"
      ]
     },
     "execution_count": 46,
     "metadata": {},
     "output_type": "execute_result"
    }
   ],
   "source": [
    "meu_texto = meu_texto.lower()\n",
    "aparicoes = {}\n",
    "for palavra in meu_texto.split():\n",
    "    ate_agora = aparicoes.get(palavra, 0)\n",
    "    aparicoes[palavra] = ate_agora + 1\n",
    "    \n",
    "aparicoes\n",
    "    "
   ]
  },
  {
   "cell_type": "code",
   "execution_count": 47,
   "metadata": {},
   "outputs": [],
   "source": [
    "from collections import defaultdict\n",
    "meu_texto = meu_texto.lower()\n",
    "aparicoes = defaultdict()\n",
    "for palavra in meu_texto.split():\n",
    "    ate_agora = aparicoes.get(palavra, 0)\n",
    "    aparicoes[palavra] = ate_agora + 1\n",
    "    \n",
    "aparicoes"
   ]
  },
  {
   "cell_type": "code",
   "execution_count": 50,
   "metadata": {},
   "outputs": [
    {
     "name": "stdout",
     "output_type": "stream",
     "text": [
      "Foda\n"
     ]
    }
   ],
   "source": [
    "dicionario = defaultdict(int)\n",
    "dicionario['caio'] = 1\n",
    "if dicionario[\"caio\"]:\n",
    "    print('Foda')\n",
    "else:\n",
    "    print('NoFoda')"
   ]
  },
  {
   "cell_type": "code",
   "execution_count": 53,
   "metadata": {},
   "outputs": [
    {
     "data": {
      "text/plain": [
       "defaultdict(int,\n",
       "            {'bem': 1,\n",
       "             'vindo': 1,\n",
       "             'meu': 2,\n",
       "             'nome': 1,\n",
       "             'é': 1,\n",
       "             'guilherme': 1,\n",
       "             'eu': 1,\n",
       "             'gosto': 2,\n",
       "             'muito': 2,\n",
       "             'de': 2,\n",
       "             'nomes': 1,\n",
       "             'e': 2,\n",
       "             'tenho': 1,\n",
       "             'o': 1,\n",
       "             'cachorro': 2})"
      ]
     },
     "execution_count": 53,
     "metadata": {},
     "output_type": "execute_result"
    }
   ],
   "source": [
    "from collections import defaultdict\n",
    "meu_texto = meu_texto.lower()\n",
    "aparicoes = defaultdict(int)\n",
    "for palavra in meu_texto.split():\n",
    "    ate_agora = aparicoes[palavra]\n",
    "    aparicoes[palavra] = ate_agora + 1\n",
    "    \n",
    "aparicoes"
   ]
  },
  {
   "cell_type": "code",
   "execution_count": 54,
   "metadata": {},
   "outputs": [
    {
     "data": {
      "text/plain": [
       "defaultdict(int,\n",
       "            {'bem': 1,\n",
       "             'vindo': 1,\n",
       "             'meu': 2,\n",
       "             'nome': 1,\n",
       "             'é': 1,\n",
       "             'guilherme': 1,\n",
       "             'eu': 1,\n",
       "             'gosto': 2,\n",
       "             'muito': 2,\n",
       "             'de': 2,\n",
       "             'nomes': 1,\n",
       "             'e': 2,\n",
       "             'tenho': 1,\n",
       "             'o': 1,\n",
       "             'cachorro': 2})"
      ]
     },
     "execution_count": 54,
     "metadata": {},
     "output_type": "execute_result"
    }
   ],
   "source": [
    "from collections import defaultdict\n",
    "meu_texto = meu_texto.lower()\n",
    "aparicoes = defaultdict(int)\n",
    "for palavra in meu_texto.split():\n",
    "    aparicoes[palavra] += 1\n",
    "    \n",
    "aparicoes"
   ]
  },
  {
   "cell_type": "code",
   "execution_count": 58,
   "metadata": {},
   "outputs": [],
   "source": [
    "class Conta:\n",
    "    def __init__(self):\n",
    "        print('Criando conta')"
   ]
  },
  {
   "cell_type": "code",
   "execution_count": 59,
   "metadata": {},
   "outputs": [],
   "source": [
    "contas = defaultdict(Conta)"
   ]
  },
  {
   "cell_type": "code",
   "execution_count": 60,
   "metadata": {},
   "outputs": [
    {
     "name": "stdout",
     "output_type": "stream",
     "text": [
      "Criando conta\n"
     ]
    },
    {
     "data": {
      "text/plain": [
       "<__main__.Conta at 0x178477c5c10>"
      ]
     },
     "execution_count": 60,
     "metadata": {},
     "output_type": "execute_result"
    }
   ],
   "source": [
    "contas[15]"
   ]
  },
  {
   "cell_type": "markdown",
   "metadata": {},
   "source": [
    "###Testando o uso das funçoes"
   ]
  },
  {
   "cell_type": "code",
   "execution_count": 65,
   "metadata": {},
   "outputs": [],
   "source": [
    "texto1 = \"\"\"\"\n",
    "Durante o processo de criação de um dashboard no Power BI existe a necessidade de realizar alguns cálculos para a obtenção de métricas relevantes: as medidas, que são cálculos agregadores calculados através da linguagem DAX. Porém, é normal cometer alguns erros de lógica no desenvolvimento de uma medida por não entender dois conceitos fundamentais que a linguagem carrega: os contextos de linha e de filtro.\n",
    "Contexto de linha\n",
    "O contexto de linha acontece quando em cada linha de uma coluna é realizado um cálculo. O problema é que as medidas são elaboradas baseando-se em uma coluna e não em uma linha específica dessa coluna. Com isso, existem duas formas de atingir o contexto de linhas.\n",
    "\n",
    "A mais comum, é a adição de uma coluna calculada, que calcula cada linha retornando o valor do resultado.\n",
    "\n",
    "\"\"\"\n",
    "\n",
    "texto2 = \"\"\"\n",
    "Eu vejo que muita gente continua trabalhando de casa e com uma oportuniadde de focar nos estudos. Sei que nem todos tem esse privilégio também.\n",
    "\n",
    "Aproveitando o sucesso que foi a Quarentena Dados, eu e a equipe de Data Science da Alura decidimos fazer uma segunda edição, a #ImersãoDados, com conteúdos online, gratuitos e inéditos para você que já conhece programação em qualquer linguagem e quer mergulhar no mundo dos dados!\n",
    "\n",
    "Como vai funcionar?\n",
    "Você deve se inscrever neste link até Domingo, dia 18 de outubro. A #ImersãoDados acontecerá de 19 a 24 de outubro com aulas práticas enviadas por e-mail todos os dias.\n",
    "\n",
    "Durante as aulas, vamos explorar a base de dados do sistema educacional no Brasil, criar um modelo de Machine Learning utilizando o Python e as principais bibliotecas na área de Data Science.\n",
    "\n",
    "Você ainda otimizará seu portfólio com um projeto completo em Data Science e poderá compartilhá-lo onde quiser: Instagram, Twitter e LinkedIn!\n",
    "\n",
    "E, no final da Imersão Dados, vamos lançar o nosso primeiro Bootcamp de Data Science aplicada, com ajuda do Átila Iamarino e da equipe do Nubank, consolidando nossos aprendizados de ensino presencial, de Imersão e de Alura. Uma experiencia única, focada em quem já trabalha com programação.\n",
    "\n",
    "Inscreva-se e compartilhe a notícia com seus amigos e amigas!\n",
    "\n",
    "\"\"\""
   ]
  },
  {
   "cell_type": "code",
   "execution_count": 100,
   "metadata": {},
   "outputs": [],
   "source": [
    "from collections import Counter\n",
    "def analisa_frequencia_letras(texto):\n",
    "    aparicoes = Counter(texto.lower())\n",
    "    total_char = sum(aparicoes.values())\n",
    "    proporcoes = [(letra, frequencia/total_char) for letra, frequencia in aparicoes.items()]\n",
    "    proporcoes = Counter(dict(proporcoes))\n",
    "    for caractere, proporcao in proporcoes.most_common(10):\n",
    "        print(f'{caractere} frequencia => {proporcao*100:.1f}%')\n",
    "\n"
   ]
  },
  {
   "cell_type": "code",
   "execution_count": 101,
   "metadata": {},
   "outputs": [
    {
     "name": "stdout",
     "output_type": "stream",
     "text": [
      "  frequencia => 16.2%\n",
      "a frequencia => 10.5%\n",
      "e frequencia => 9.1%\n",
      "o frequencia => 7.9%\n",
      "d frequencia => 5.7%\n",
      "s frequencia => 5.2%\n",
      "n frequencia => 5.1%\n",
      "l frequencia => 4.7%\n",
      "c frequencia => 4.6%\n",
      "r frequencia => 4.0%\n"
     ]
    }
   ],
   "source": [
    "analisa_frequencia_letras(texto1)"
   ]
  },
  {
   "cell_type": "code",
   "execution_count": 102,
   "metadata": {},
   "outputs": [
    {
     "name": "stdout",
     "output_type": "stream",
     "text": [
      "  frequencia => 15.7%\n",
      "a frequencia => 9.6%\n",
      "e frequencia => 9.0%\n",
      "o frequencia => 8.3%\n",
      "i frequencia => 6.0%\n",
      "d frequencia => 5.3%\n",
      "s frequencia => 5.3%\n",
      "n frequencia => 4.9%\n",
      "r frequencia => 4.4%\n",
      "c frequencia => 3.8%\n"
     ]
    }
   ],
   "source": [
    "analisa_frequencia_letras(texto2)"
   ]
  },
  {
   "cell_type": "code",
   "execution_count": null,
   "metadata": {},
   "outputs": [],
   "source": []
  }
 ],
 "metadata": {
  "kernelspec": {
   "display_name": "Python 3",
   "language": "python",
   "name": "python3"
  },
  "language_info": {
   "codemirror_mode": {
    "name": "ipython",
    "version": 3
   },
   "file_extension": ".py",
   "mimetype": "text/x-python",
   "name": "python",
   "nbconvert_exporter": "python",
   "pygments_lexer": "ipython3",
   "version": "3.9.0"
  }
 },
 "nbformat": 4,
 "nbformat_minor": 4
}
